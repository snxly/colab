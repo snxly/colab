{
  "nbformat": 4,
  "nbformat_minor": 0,
  "metadata": {
    "colab": {
      "provenance": [],
      "authorship_tag": "ABX9TyP+nhU9LtG1rilegmDwuAlR",
      "include_colab_link": true
    },
    "kernelspec": {
      "name": "python3",
      "display_name": "Python 3"
    },
    "language_info": {
      "name": "python"
    }
  },
  "cells": [
    {
      "cell_type": "markdown",
      "metadata": {
        "id": "view-in-github",
        "colab_type": "text"
      },
      "source": [
        "<a href=\"https://colab.research.google.com/github/snxly/colab/blob/master/pytorch/linear_regression.ipynb\" target=\"_parent\"><img src=\"https://colab.research.google.com/assets/colab-badge.svg\" alt=\"Open In Colab\"/></a>"
      ]
    },
    {
      "cell_type": "markdown",
      "source": [
        "# Demo for linear regression\n",
        "y = 2x + 1"
      ],
      "metadata": {
        "id": "wZ2IoKr8L3-s"
      }
    },
    {
      "cell_type": "markdown",
      "source": [
        "# 1. 准备数据\n",
        "因为数据比较简单，这里就不用 DataSet 和 DataSetLoader了"
      ],
      "metadata": {
        "id": "I9MbLXe7MKHC"
      }
    },
    {
      "cell_type": "code",
      "execution_count": 40,
      "metadata": {
        "colab": {
          "base_uri": "https://localhost:8080/"
        },
        "id": "siaLw8k3Ls48",
        "outputId": "17ddd7cc-7a12-4b5e-c58a-d91caec38087"
      },
      "outputs": [
        {
          "output_type": "stream",
          "name": "stdout",
          "text": [
            "tensor([[1.],\n",
            "        [2.],\n",
            "        [3.],\n",
            "        [4.],\n",
            "        [5.],\n",
            "        [6.],\n",
            "        [7.],\n",
            "        [8.],\n",
            "        [9.]]) tensor([[ 3.],\n",
            "        [ 5.],\n",
            "        [ 7.],\n",
            "        [ 9.],\n",
            "        [11.],\n",
            "        [13.],\n",
            "        [15.],\n",
            "        [17.],\n",
            "        [19.]])\n"
          ]
        }
      ],
      "source": [
        "import torch\n",
        "import numpy as np\n",
        "\n",
        "# 用numpy是因为构造列向量比较容易 reshape\n",
        "x_np = np.arange(1, 10).reshape(-1, 1)\n",
        "y_np = 2 * x_np + 1\n",
        "\n",
        "# Model expect float data\n",
        "# RuntimeError: mat1 and mat2 must have the same dtype, but got Long and Float\n",
        "x_data = torch.from_numpy(x_np).float() # Convert to Float\n",
        "y_data = torch.from_numpy(y_np).float() # Convert to Float\n",
        "print(x_data, y_data)"
      ]
    },
    {
      "cell_type": "markdown",
      "source": [
        "# 2. 定义model"
      ],
      "metadata": {
        "id": "GtezSY6mNeD_"
      }
    },
    {
      "cell_type": "code",
      "source": [
        "from torch import nn\n",
        "\n",
        "class LinearRegression(nn.Module):\n",
        "  def __init__(self, num_in, num_out):\n",
        "    # 忽略此行，导致一个错误\n",
        "    # cannot assign module before Module.__init__() call\n",
        "    super().__init__()\n",
        "    self.linear = nn.Linear(num_in, num_out)\n",
        "\n",
        "  def forward(self, x):\n",
        "    return self.linear(x)\n",
        "\n",
        "features_in = 1\n",
        "features_out = 1\n",
        "model = LinearRegression(features_in, features_out)"
      ],
      "metadata": {
        "id": "pdwMnhonNi05"
      },
      "execution_count": 41,
      "outputs": []
    },
    {
      "cell_type": "markdown",
      "source": [
        "# 3. 定义训练、评估函数"
      ],
      "metadata": {
        "id": "Xqx4fECyQcFf"
      }
    },
    {
      "cell_type": "code",
      "source": [
        "learning_rate = 1e-2\n",
        "optimizer = torch.optim.SGD(model.parameters(), learning_rate)\n",
        "# 错误: 这里要调用一下以返回真正的 loss function\n",
        "loss_fn = nn.MSELoss()\n",
        "\n",
        "def train():\n",
        "  # 训练模式\n",
        "  model.train()\n",
        "\n",
        "  # 喂数据\n",
        "  pred = model(x_data)\n",
        "  # 计算loss\n",
        "  loss = loss_fn(pred, y_data) # Corrected call\n",
        "  # grad 清零\n",
        "  optimizer.zero_grad()\n",
        "  # backward\n",
        "  loss.backward()\n",
        "  # update weights\n",
        "  optimizer.step()\n",
        "\n",
        "def evaluate():\n",
        "  # 评估模式\n",
        "  model.eval()\n",
        "\n",
        "  # 打印loss\n",
        "  with torch.no_grad():\n",
        "    pred = model(x_data)\n",
        "    loss = loss_fn(pred, y_data) # Corrected call\n",
        "    print(f'loss = {loss}')"
      ],
      "metadata": {
        "id": "cEE74aVGQlXu"
      },
      "execution_count": 42,
      "outputs": []
    },
    {
      "cell_type": "markdown",
      "source": [
        "# 4. 开始训练"
      ],
      "metadata": {
        "id": "_PWX2FaiSdOG"
      }
    },
    {
      "cell_type": "code",
      "source": [
        "# 训练前查看 parameters\n",
        "print(f'Parameters before training:')\n",
        "for name, param in model.named_parameters():\n",
        "  print(name, param.item())\n",
        "\n",
        "epoch = 1000\n",
        "for i in range(epoch):\n",
        "  train()\n",
        "  if i % 100 == 0:\n",
        "    print(f'Epoch {i + 1}')\n",
        "    evaluate()\n",
        "\n",
        "# 训练后查看 parameters\n",
        "# 由于 y = 2x + 1\n",
        "# 希望满足 weight=2, bias=1\n",
        "print(f'Parameters after training:')\n",
        "for name, param in model.named_parameters():\n",
        "  print(name, param.item())"
      ],
      "metadata": {
        "colab": {
          "base_uri": "https://localhost:8080/"
        },
        "id": "P6Si3_o3SfKa",
        "outputId": "a7e4b84e-fe1f-4049-eb49-50816a04bf30"
      },
      "execution_count": 43,
      "outputs": [
        {
          "output_type": "stream",
          "name": "stdout",
          "text": [
            "Parameters before training:\n",
            "linear.weight -0.5493651628494263\n",
            "linear.bias -0.280856728553772\n",
            "Epoch 1\n",
            "loss = 29.676483154296875\n",
            "Epoch 101\n",
            "loss = 0.06688675284385681\n",
            "Epoch 201\n",
            "loss = 0.029365403577685356\n",
            "Epoch 301\n",
            "loss = 0.012892353348433971\n",
            "Epoch 401\n",
            "loss = 0.005660159047693014\n",
            "Epoch 501\n",
            "loss = 0.0024849793408066034\n",
            "Epoch 601\n",
            "loss = 0.0010909936390817165\n",
            "Epoch 701\n",
            "loss = 0.0004789805971086025\n",
            "Epoch 801\n",
            "loss = 0.00021028282935731113\n",
            "Epoch 901\n",
            "loss = 9.23223196878098e-05\n",
            "Parameters after training:\n",
            "linear.weight 2.002213954925537\n",
            "linear.bias 0.9860684871673584\n"
          ]
        }
      ]
    },
    {
      "cell_type": "markdown",
      "source": [],
      "metadata": {
        "id": "LesTMR6oSc--"
      }
    }
  ]
}