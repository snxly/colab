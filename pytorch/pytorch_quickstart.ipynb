{
  "nbformat": 4,
  "nbformat_minor": 0,
  "metadata": {
    "colab": {
      "provenance": [],
      "toc_visible": true,
      "gpuType": "T4",
      "authorship_tag": "ABX9TyOtcIzyHcCdFX5k9uOZcSPy",
      "include_colab_link": true
    },
    "kernelspec": {
      "name": "python3",
      "display_name": "Python 3"
    },
    "language_info": {
      "name": "python"
    },
    "accelerator": "GPU"
  },
  "cells": [
    {
      "cell_type": "markdown",
      "metadata": {
        "id": "view-in-github",
        "colab_type": "text"
      },
      "source": [
        "<a href=\"https://colab.research.google.com/github/snxly/colab/blob/master/pytorch/pytorch_quickstart.ipynb\" target=\"_parent\"><img src=\"https://colab.research.google.com/assets/colab-badge.svg\" alt=\"Open In Colab\"/></a>"
      ]
    },
    {
      "cell_type": "code",
      "execution_count": 1,
      "metadata": {
        "id": "5yn1JhZgAFV-"
      },
      "outputs": [],
      "source": [
        "import torch"
      ]
    },
    {
      "cell_type": "code",
      "source": [
        "from torch import nn\n",
        "from torch.utils.data import DataLoader\n",
        "from torchvision import datasets\n",
        "from torchvision.transforms import ToTensor"
      ],
      "metadata": {
        "id": "EG5LDBmlALRZ"
      },
      "execution_count": 2,
      "outputs": []
    },
    {
      "cell_type": "markdown",
      "source": [
        "# 1. Load Dataset"
      ],
      "metadata": {
        "id": "IaBoNmuyBosZ"
      }
    },
    {
      "cell_type": "code",
      "source": [
        "# load training data\n",
        "training_data = datasets.FashionMNIST(train=True, root='data', download=True, transform=ToTensor())\n",
        "\n",
        "# load test data (train = False)\n",
        "test_data = datasets.FashionMNIST(train=False, root='data', download=True, transform=ToTensor())"
      ],
      "metadata": {
        "id": "Vb5djVhqAqTo",
        "colab": {
          "base_uri": "https://localhost:8080/"
        },
        "outputId": "3a943644-1a3f-4475-d629-0525fbf6b481"
      },
      "execution_count": 3,
      "outputs": [
        {
          "output_type": "stream",
          "name": "stderr",
          "text": [
            "100%|██████████| 26.4M/26.4M [00:01<00:00, 17.1MB/s]\n",
            "100%|██████████| 29.5k/29.5k [00:00<00:00, 274kB/s]\n",
            "100%|██████████| 4.42M/4.42M [00:00<00:00, 5.07MB/s]\n",
            "100%|██████████| 5.15k/5.15k [00:00<00:00, 20.3MB/s]\n"
          ]
        }
      ]
    },
    {
      "cell_type": "markdown",
      "source": [
        "# 2. Pass Dataset to DataLoader"
      ],
      "metadata": {
        "id": "HKjIFSiABthp"
      }
    },
    {
      "cell_type": "code",
      "source": [
        "batch_size = 64\n",
        "\n",
        "# 创建data loader\n",
        "train_loader = DataLoader(training_data, batch_size=batch_size)\n",
        "test_loader = DataLoader(test_data, batch_size=batch_size)\n",
        "\n",
        "# 使用dataloader 返回数据\n",
        "for x, y in test_loader:\n",
        "  print(x.shape)\n",
        "  print(y.shape, y.dtype)\n",
        "  break\n"
      ],
      "metadata": {
        "colab": {
          "base_uri": "https://localhost:8080/"
        },
        "id": "L0ttb3oHBxKq",
        "outputId": "e0050cbf-6c1d-4675-e617-3058d67cdcb7"
      },
      "execution_count": 4,
      "outputs": [
        {
          "output_type": "stream",
          "name": "stdout",
          "text": [
            "torch.Size([64, 1, 28, 28])\n",
            "torch.Size([64]) torch.int64\n"
          ]
        }
      ]
    },
    {
      "cell_type": "markdown",
      "source": [
        "# 3. Create models"
      ],
      "metadata": {
        "id": "Y6Hngn5yFvVU"
      }
    },
    {
      "cell_type": "code",
      "source": [
        "device = torch.accelerator.current_accelerator() if torch.accelerator.is_available() else 'cpu'\n",
        "print(f'Using {device} device')\n",
        "\n",
        "# define model\n",
        "class NeuralNetwork(nn.Module):\n",
        "  # 在 __init__ 里定义网络结构，layers\n",
        "  def __init__(self):\n",
        "    super().__init__()\n",
        "    self.flatten = nn.Flatten()\n",
        "    self.linear_relu_stack = nn.Sequential(\n",
        "        nn.Linear(28*28, 512),\n",
        "        nn.ReLU(),\n",
        "        nn.Linear(512, 512),\n",
        "        nn.ReLU(),\n",
        "        nn.Linear(512, 10)\n",
        "    )\n",
        "\n",
        "  # 定义数据怎样通过网络\n",
        "  def forward(self, x):\n",
        "    x = self.flatten(x)\n",
        "    logits = self.linear_relu_stack(x)\n",
        "    return logits\n",
        "\n",
        "model = NeuralNetwork().to(device)\n",
        "print(model)"
      ],
      "metadata": {
        "colab": {
          "base_uri": "https://localhost:8080/"
        },
        "id": "rXR5-hygGvHd",
        "outputId": "b30fc788-aec3-48ad-a0dd-6b0c401989c3"
      },
      "execution_count": 5,
      "outputs": [
        {
          "output_type": "stream",
          "name": "stdout",
          "text": [
            "Using cpu device\n",
            "NeuralNetwork(\n",
            "  (flatten): Flatten(start_dim=1, end_dim=-1)\n",
            "  (linear_relu_stack): Sequential(\n",
            "    (0): Linear(in_features=784, out_features=512, bias=True)\n",
            "    (1): ReLU()\n",
            "    (2): Linear(in_features=512, out_features=512, bias=True)\n",
            "    (3): ReLU()\n",
            "    (4): Linear(in_features=512, out_features=10, bias=True)\n",
            "  )\n",
            ")\n"
          ]
        }
      ]
    },
    {
      "cell_type": "markdown",
      "source": [
        "#4. Optimizing model parameters - train the model\n",
        "To train a model, we need\n",
        "- a loss function `nn.CrossEntropyLoss`, and\n",
        "- an optimizer `torch.optim.SGD(model.parameters(), lr=1e-3)`"
      ],
      "metadata": {
        "id": "Joml9QrgJ7hq"
      }
    },
    {
      "cell_type": "code",
      "source": [
        "# 定义训练过程，喂数据，计算loss，反向传播，更新weights， 梯度清零，打印进度\n",
        "def train(dataloader, model, loss_fn, optimizer):\n",
        "  # 设置训练模式\n",
        "  model.train()\n",
        "\n",
        "  # 放在外面，是因为不需要每个loop都计算一次\n",
        "  data_size = len(dataloader.dataset)\n",
        "\n",
        "  for batch, (x, y) in enumerate(dataloader):\n",
        "    # 准备数据 （给GPU）\n",
        "    x = x.to(device)\n",
        "    y = y.to(device)\n",
        "    # 喂数据\n",
        "    pred = model(x)\n",
        "    # 计算 loss\n",
        "    loss = loss_fn(pred, y)\n",
        "\n",
        "    # 反向传播, 计算梯度\n",
        "    loss.backward()\n",
        "    # 更新weights\n",
        "    # optimizer里有weights， learing_rate等数据\n",
        "    # ？ How does optimizer know about grads\n",
        "    optimizer.step()\n",
        "    # 梯度清零，这步是不是可以在反向传播之前做？\n",
        "    optimizer.zero_grad()\n",
        "\n",
        "    # 打印结果 - 评估\n",
        "    # 训练了多少数据，当前的loss是多少\n",
        "    if batch % 100 == 0:\n",
        "      train_size = (batch + 1) * batch_size\n",
        "      print(f'loss = {loss.item()}, trained data = {train_size} / {data_size}')"
      ],
      "metadata": {
        "id": "hRDw_63wKCS0"
      },
      "execution_count": 6,
      "outputs": []
    },
    {
      "cell_type": "code",
      "source": [
        "# 训练完成以后， 在 test set上进行评估\n",
        "def test(dataloader, model, loss_fn):\n",
        "  # 设置评估模式\n",
        "  model.eval()\n",
        "\n",
        "  loss = 0\n",
        "  correct = 0\n",
        "  # 评估模式无需更新梯度，这个能放在 model.eval() 里做吗？\n",
        "  with torch.no_grad():\n",
        "    for x,y in dataloader:\n",
        "      # 喂数据\n",
        "      x = x.to(device)\n",
        "      y = y.to(device)\n",
        "      pred = model(x)\n",
        "      # 统计loss\n",
        "      loss += loss_fn(pred, y).item()\n",
        "      # 计算准确数目\n",
        "      correct += (pred.argmax(1) == y).type(torch.float).sum().item()\n",
        "\n",
        "  batch_num = len(dataloader)\n",
        "  loss_avg = loss / batch_num\n",
        "  data_num = len(dataloader.dataset)\n",
        "  accuracy = correct / data_num\n",
        "  print(f'Average loss is {loss_avg}, accuracy is {accuracy} \\n')"
      ],
      "metadata": {
        "id": "jWRp_7ThbHWh"
      },
      "execution_count": 7,
      "outputs": []
    },
    {
      "cell_type": "code",
      "source": [
        "# 真正开始训练\n",
        "loss_fn = nn.CrossEntropyLoss()\n",
        "optimizer = torch.optim.SGD(model.parameters(), lr=1e-3)\n",
        "\n",
        "epoch = 5\n",
        "for i in range(epoch):\n",
        "  print(f'Epoch {i + 1}\\n')\n",
        "  train(train_loader, model, loss_fn, optimizer)\n",
        "  test(test_loader, model, loss_fn)"
      ],
      "metadata": {
        "id": "tMx9Bs_xfTiw",
        "colab": {
          "base_uri": "https://localhost:8080/"
        },
        "outputId": "49a9d432-74b5-4457-c7a7-83519315c6d6"
      },
      "execution_count": 8,
      "outputs": [
        {
          "output_type": "stream",
          "name": "stdout",
          "text": [
            "Epoch 1\n",
            "\n",
            "loss = 2.308292865753174, trained data = 64 / 60000\n",
            "loss = 2.2938685417175293, trained data = 6464 / 60000\n",
            "loss = 2.2632341384887695, trained data = 12864 / 60000\n",
            "loss = 2.258998394012451, trained data = 19264 / 60000\n",
            "loss = 2.2572455406188965, trained data = 25664 / 60000\n",
            "loss = 2.224212408065796, trained data = 32064 / 60000\n",
            "loss = 2.230771541595459, trained data = 38464 / 60000\n",
            "loss = 2.1958539485931396, trained data = 44864 / 60000\n",
            "loss = 2.1931235790252686, trained data = 51264 / 60000\n",
            "loss = 2.165431499481201, trained data = 57664 / 60000\n",
            "Average loss is 2.1525586046231022, accuracy is 0.4668 \n",
            "\n",
            "Epoch 2\n",
            "\n",
            "loss = 2.165142297744751, trained data = 64 / 60000\n",
            "loss = 2.1510345935821533, trained data = 6464 / 60000\n",
            "loss = 2.0809075832366943, trained data = 12864 / 60000\n",
            "loss = 2.1052844524383545, trained data = 19264 / 60000\n",
            "loss = 2.061269760131836, trained data = 25664 / 60000\n",
            "loss = 2.0014076232910156, trained data = 32064 / 60000\n",
            "loss = 2.0329465866088867, trained data = 38464 / 60000\n",
            "loss = 1.946881890296936, trained data = 44864 / 60000\n",
            "loss = 1.9514212608337402, trained data = 51264 / 60000\n",
            "loss = 1.889935851097107, trained data = 57664 / 60000\n",
            "Average loss is 1.875487475638177, accuracy is 0.5867 \n",
            "\n",
            "Epoch 3\n",
            "\n",
            "loss = 1.9071037769317627, trained data = 64 / 60000\n",
            "loss = 1.872172236442566, trained data = 6464 / 60000\n",
            "loss = 1.7402894496917725, trained data = 12864 / 60000\n",
            "loss = 1.803427815437317, trained data = 19264 / 60000\n",
            "loss = 1.6920790672302246, trained data = 25664 / 60000\n",
            "loss = 1.6419113874435425, trained data = 32064 / 60000\n",
            "loss = 1.6780433654785156, trained data = 38464 / 60000\n",
            "loss = 1.5668575763702393, trained data = 44864 / 60000\n",
            "loss = 1.5888034105300903, trained data = 51264 / 60000\n",
            "loss = 1.5002238750457764, trained data = 57664 / 60000\n",
            "Average loss is 1.504798201998328, accuracy is 0.6345 \n",
            "\n",
            "Epoch 4\n",
            "\n",
            "loss = 1.5665130615234375, trained data = 64 / 60000\n",
            "loss = 1.5310077667236328, trained data = 6464 / 60000\n",
            "loss = 1.36905837059021, trained data = 12864 / 60000\n",
            "loss = 1.4665552377700806, trained data = 19264 / 60000\n",
            "loss = 1.3406357765197754, trained data = 25664 / 60000\n",
            "loss = 1.335488200187683, trained data = 32064 / 60000\n",
            "loss = 1.36551833152771, trained data = 38464 / 60000\n",
            "loss = 1.2825770378112793, trained data = 44864 / 60000\n",
            "loss = 1.311081051826477, trained data = 51264 / 60000\n",
            "loss = 1.224370002746582, trained data = 57664 / 60000\n",
            "Average loss is 1.2425224917709448, accuracy is 0.6458 \n",
            "\n",
            "Epoch 5\n",
            "\n",
            "loss = 1.3133240938186646, trained data = 64 / 60000\n",
            "loss = 1.296930193901062, trained data = 6464 / 60000\n",
            "loss = 1.1239312887191772, trained data = 12864 / 60000\n",
            "loss = 1.2499549388885498, trained data = 19264 / 60000\n",
            "loss = 1.116667628288269, trained data = 25664 / 60000\n",
            "loss = 1.1408339738845825, trained data = 32064 / 60000\n",
            "loss = 1.1753649711608887, trained data = 38464 / 60000\n",
            "loss = 1.109442114830017, trained data = 44864 / 60000\n",
            "loss = 1.1399284601211548, trained data = 51264 / 60000\n",
            "loss = 1.064505934715271, trained data = 57664 / 60000\n",
            "Average loss is 1.081295622002547, accuracy is 0.6551 \n",
            "\n"
          ]
        }
      ]
    },
    {
      "cell_type": "markdown",
      "source": [
        "# 5. Saving models"
      ],
      "metadata": {
        "id": "izgVvJ1einD9"
      }
    },
    {
      "cell_type": "code",
      "source": [
        "model_path = 'model.pth'\n",
        "torch.save(model.state_dict(), model_path)\n",
        "print('Save model')"
      ],
      "metadata": {
        "colab": {
          "base_uri": "https://localhost:8080/"
        },
        "id": "w4b_8uxZiqDC",
        "outputId": "b9268a1e-9cfd-4d13-c141-c29c4b6f50f1"
      },
      "execution_count": null,
      "outputs": [
        {
          "output_type": "stream",
          "name": "stdout",
          "text": [
            "Save model\n"
          ]
        }
      ]
    },
    {
      "cell_type": "markdown",
      "source": [
        "# 6. Loading model\n"
      ],
      "metadata": {
        "id": "ixRkFaeSi-F1"
      }
    },
    {
      "cell_type": "code",
      "source": [
        "model = NeuralNetwork().to(device)\n",
        "\n",
        "weights = torch.load(model_path, weights_only=True)\n",
        "model.load_state_dict(weights)"
      ],
      "metadata": {
        "colab": {
          "base_uri": "https://localhost:8080/"
        },
        "id": "55ChvGjxjOwF",
        "outputId": "5455f6c8-2d5f-474d-b70d-b947e97a5816"
      },
      "execution_count": null,
      "outputs": [
        {
          "output_type": "execute_result",
          "data": {
            "text/plain": [
              "<All keys matched successfully>"
            ]
          },
          "metadata": {},
          "execution_count": 32
        }
      ]
    },
    {
      "cell_type": "markdown",
      "source": [
        "# 7. Make predictions"
      ],
      "metadata": {
        "id": "fvXudu8GlGux"
      }
    },
    {
      "cell_type": "code",
      "source": [
        "# 设置到评估模式\n",
        "model.eval()\n",
        "\n",
        "x, y = next(iter(test_loader))\n",
        "# 这个with 真的可以和 eval() 合并起来\n",
        "with torch.no_grad():\n",
        "  x = x.to(device)\n",
        "  pred = model(x)\n",
        "  # print(pred, pred.shape)\n",
        "  pred_idx = nn.Softmax(dim=1)(pred).argmax(1)\n",
        "  print(f'prediction = {pred_idx}, actually is {y}')"
      ],
      "metadata": {
        "colab": {
          "base_uri": "https://localhost:8080/"
        },
        "id": "64t4XBb8lGMy",
        "outputId": "12ca0bcb-6077-4175-ff8e-e3b28dce5d6a"
      },
      "execution_count": 23,
      "outputs": [
        {
          "output_type": "stream",
          "name": "stdout",
          "text": [
            "prediction = 399, actually is tensor([9, 2, 1, 1, 6, 1, 4, 6, 5, 7, 4, 5, 7, 3, 4, 1, 2, 4, 8, 0, 2, 5, 7, 9,\n",
            "        1, 4, 6, 0, 9, 3, 8, 8, 3, 3, 8, 0, 7, 5, 7, 9, 6, 1, 3, 7, 6, 7, 2, 1,\n",
            "        2, 2, 4, 4, 5, 8, 2, 2, 8, 4, 8, 0, 7, 7, 8, 5])\n"
          ]
        }
      ]
    },
    {
      "cell_type": "markdown",
      "source": [
        "# Model Parameters"
      ],
      "metadata": {
        "id": "J_a42L0GZT_Z"
      }
    },
    {
      "cell_type": "code",
      "source": [
        "print(f\"Model structure: {model}\\n\\n\")\n",
        "\n",
        "for name, param in model.named_parameters():\n",
        "    print(f\"Layer: {name} | Size: {param.size()} | Values : {param[:2]} \\n\")"
      ],
      "metadata": {
        "colab": {
          "base_uri": "https://localhost:8080/"
        },
        "id": "VMIvH19tZWIr",
        "outputId": "672311a3-5d51-4030-d928-ab9e9eb0add0"
      },
      "execution_count": 24,
      "outputs": [
        {
          "output_type": "stream",
          "name": "stdout",
          "text": [
            "Model structure: NeuralNetwork(\n",
            "  (flatten): Flatten(start_dim=1, end_dim=-1)\n",
            "  (linear_relu_stack): Sequential(\n",
            "    (0): Linear(in_features=784, out_features=512, bias=True)\n",
            "    (1): ReLU()\n",
            "    (2): Linear(in_features=512, out_features=512, bias=True)\n",
            "    (3): ReLU()\n",
            "    (4): Linear(in_features=512, out_features=10, bias=True)\n",
            "  )\n",
            ")\n",
            "\n",
            "\n",
            "Layer: linear_relu_stack.0.weight | Size: torch.Size([512, 784]) | Values : tensor([[-0.0042,  0.0061,  0.0092,  ...,  0.0100,  0.0076,  0.0069],\n",
            "        [-0.0181,  0.0034, -0.0178,  ..., -0.0029,  0.0089,  0.0309]],\n",
            "       grad_fn=<SliceBackward0>) \n",
            "\n",
            "Layer: linear_relu_stack.0.bias | Size: torch.Size([512]) | Values : tensor([ 0.0352, -0.0256], grad_fn=<SliceBackward0>) \n",
            "\n",
            "Layer: linear_relu_stack.2.weight | Size: torch.Size([512, 512]) | Values : tensor([[-0.0331,  0.0404, -0.0244,  ...,  0.0185,  0.0268,  0.0110],\n",
            "        [-0.0295,  0.0005,  0.0010,  ..., -0.0345,  0.0394, -0.0386]],\n",
            "       grad_fn=<SliceBackward0>) \n",
            "\n",
            "Layer: linear_relu_stack.2.bias | Size: torch.Size([512]) | Values : tensor([ 0.0203, -0.0185], grad_fn=<SliceBackward0>) \n",
            "\n",
            "Layer: linear_relu_stack.4.weight | Size: torch.Size([10, 512]) | Values : tensor([[-0.0389,  0.0136, -0.0076,  ...,  0.0335, -0.0155, -0.0262],\n",
            "        [ 0.0633,  0.0230, -0.1066,  ..., -0.0357, -0.0278,  0.0340]],\n",
            "       grad_fn=<SliceBackward0>) \n",
            "\n",
            "Layer: linear_relu_stack.4.bias | Size: torch.Size([10]) | Values : tensor([-0.0226,  0.0506], grad_fn=<SliceBackward0>) \n",
            "\n"
          ]
        }
      ]
    }
  ]
}