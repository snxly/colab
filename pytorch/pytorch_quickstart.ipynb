{
  "nbformat": 4,
  "nbformat_minor": 0,
  "metadata": {
    "colab": {
      "provenance": [],
      "toc_visible": true,
      "gpuType": "T4",
      "authorship_tag": "ABX9TyMJCu8pxRltklhLq/2iZpoT",
      "include_colab_link": true
    },
    "kernelspec": {
      "name": "python3",
      "display_name": "Python 3"
    },
    "language_info": {
      "name": "python"
    },
    "accelerator": "GPU"
  },
  "cells": [
    {
      "cell_type": "markdown",
      "metadata": {
        "id": "view-in-github",
        "colab_type": "text"
      },
      "source": [
        "<a href=\"https://colab.research.google.com/github/snxly/colab/blob/master/pytorch/pytorch_quickstart.ipynb\" target=\"_parent\"><img src=\"https://colab.research.google.com/assets/colab-badge.svg\" alt=\"Open In Colab\"/></a>"
      ]
    },
    {
      "cell_type": "code",
      "execution_count": null,
      "metadata": {
        "id": "5yn1JhZgAFV-"
      },
      "outputs": [],
      "source": [
        "import torch"
      ]
    },
    {
      "cell_type": "code",
      "source": [
        "from torch import nn\n",
        "from torch.utils.data import DataLoader\n",
        "from torchvision import datasets\n",
        "from torchvision.transforms import ToTensor"
      ],
      "metadata": {
        "id": "EG5LDBmlALRZ"
      },
      "execution_count": null,
      "outputs": []
    },
    {
      "cell_type": "markdown",
      "source": [
        "# 1. Load Dataset"
      ],
      "metadata": {
        "id": "IaBoNmuyBosZ"
      }
    },
    {
      "cell_type": "code",
      "source": [
        "# load training data\n",
        "training_data = datasets.FashionMNIST(train=True, root='data', download=True, transform=ToTensor())\n",
        "\n",
        "# load test data (train = False)\n",
        "test_data = datasets.FashionMNIST(train=False, root='data', download=True, transform=ToTensor())"
      ],
      "metadata": {
        "id": "Vb5djVhqAqTo",
        "colab": {
          "base_uri": "https://localhost:8080/"
        },
        "outputId": "f4b7fdde-3ff9-4d7c-8e20-f24dd8f1e296"
      },
      "execution_count": null,
      "outputs": [
        {
          "output_type": "stream",
          "name": "stderr",
          "text": [
            "100%|██████████| 26.4M/26.4M [00:00<00:00, 109MB/s]\n",
            "100%|██████████| 29.5k/29.5k [00:00<00:00, 3.56MB/s]\n",
            "100%|██████████| 4.42M/4.42M [00:00<00:00, 59.7MB/s]\n",
            "100%|██████████| 5.15k/5.15k [00:00<00:00, 17.6MB/s]\n"
          ]
        }
      ]
    },
    {
      "cell_type": "markdown",
      "source": [
        "# 2. Pass Dataset to DataLoader"
      ],
      "metadata": {
        "id": "HKjIFSiABthp"
      }
    },
    {
      "cell_type": "code",
      "source": [
        "batch_size = 64\n",
        "\n",
        "# 创建data loader\n",
        "train_loader = DataLoader(training_data, batch_size=batch_size)\n",
        "test_loader = DataLoader(test_data, batch_size=batch_size)\n",
        "\n",
        "# 使用dataloader 返回数据\n",
        "for x, y in test_loader:\n",
        "  print(x.shape)\n",
        "  print(y.shape, y.dtype)\n",
        "  break\n"
      ],
      "metadata": {
        "colab": {
          "base_uri": "https://localhost:8080/"
        },
        "id": "L0ttb3oHBxKq",
        "outputId": "e4e76dcc-277b-4dd4-c3a5-b918740e30f6"
      },
      "execution_count": null,
      "outputs": [
        {
          "output_type": "stream",
          "name": "stdout",
          "text": [
            "torch.Size([64, 1, 28, 28])\n",
            "torch.Size([64]) torch.int64\n"
          ]
        }
      ]
    },
    {
      "cell_type": "markdown",
      "source": [
        "# 3. Create models"
      ],
      "metadata": {
        "id": "Y6Hngn5yFvVU"
      }
    },
    {
      "cell_type": "code",
      "source": [
        "device = torch.accelerator.current_accelerator() if torch.accelerator.is_available() else 'cpu'\n",
        "print(f'Using {device} device')\n",
        "\n",
        "# define model\n",
        "class NeuralNetwork(nn.Module):\n",
        "  # 在 __init__ 里定义网络结构，layers\n",
        "  def __init__(self):\n",
        "    super().__init__()\n",
        "    self.flatten = nn.Flatten()\n",
        "    self.linear_relu_stack = nn.Sequential(\n",
        "        nn.Linear(28*28, 512),\n",
        "        nn.ReLU(),\n",
        "        nn.Linear(512, 512),\n",
        "        nn.ReLU(),\n",
        "        nn.Linear(512, 10)\n",
        "    )\n",
        "\n",
        "  # 定义数据怎样通过网络\n",
        "  def forward(self, x):\n",
        "    x = self.flatten(x)\n",
        "    logits = self.linear_relu_stack(x)\n",
        "    return logits\n",
        "\n",
        "model = NeuralNetwork().to(device)\n",
        "print(model)"
      ],
      "metadata": {
        "colab": {
          "base_uri": "https://localhost:8080/"
        },
        "id": "rXR5-hygGvHd",
        "outputId": "7efe5d74-7ccb-4815-91bb-543386460c23"
      },
      "execution_count": null,
      "outputs": [
        {
          "output_type": "stream",
          "name": "stdout",
          "text": [
            "Using cuda device\n",
            "NeuralNetwork(\n",
            "  (flatten): Flatten(start_dim=1, end_dim=-1)\n",
            "  (linear_relu_stack): Sequential(\n",
            "    (0): Linear(in_features=784, out_features=512, bias=True)\n",
            "    (1): ReLU()\n",
            "    (2): Linear(in_features=512, out_features=512, bias=True)\n",
            "    (3): ReLU()\n",
            "    (4): Linear(in_features=512, out_features=10, bias=True)\n",
            "  )\n",
            ")\n"
          ]
        }
      ]
    },
    {
      "cell_type": "markdown",
      "source": [
        "#4. Optimizing model parameters - train the model\n",
        "To train a model, we need\n",
        "- a loss function `nn.CrossEntropyLoss`, and\n",
        "- an optimizer `torch.optim.SGD(model.parameters(), lr=1e-3)`"
      ],
      "metadata": {
        "id": "Joml9QrgJ7hq"
      }
    },
    {
      "cell_type": "code",
      "source": [
        "# 定义训练过程，喂数据，计算loss，反向传播，更新weights， 梯度清零，打印进度\n",
        "def train(dataloader, model, loss_fn, optimizer):\n",
        "  # 设置训练模式\n",
        "  model.train()\n",
        "\n",
        "  # 放在外面，是因为不需要每个loop都计算一次\n",
        "  data_size = len(dataloader.dataset)\n",
        "\n",
        "  for batch, (x, y) in enumerate(dataloader):\n",
        "    # 准备数据 （给GPU）\n",
        "    x = x.to(device)\n",
        "    y = y.to(device)\n",
        "    # 喂数据\n",
        "    pred = model(x)\n",
        "    # 计算 loss\n",
        "    loss = loss_fn(pred, y)\n",
        "\n",
        "    # 反向传播, 计算梯度\n",
        "    loss.backward()\n",
        "    # 更新weights\n",
        "    # optimizer里有weights， learing_rate等数据\n",
        "    # ？ How does optimizer know about grads\n",
        "    optimizer.step()\n",
        "    # 梯度清零，这步是不是可以在反向传播之前做？\n",
        "    optimizer.zero_grad()\n",
        "\n",
        "    # 打印结果 - 评估\n",
        "    # 训练了多少数据，当前的loss是多少\n",
        "    if batch % 100 == 0:\n",
        "      train_size = (batch + 1) * batch_size\n",
        "      print(f'loss = {loss.item()}, trained data = {train_size} / {data_size}')"
      ],
      "metadata": {
        "id": "hRDw_63wKCS0"
      },
      "execution_count": null,
      "outputs": []
    },
    {
      "cell_type": "code",
      "source": [
        "# 训练完成以后， 在 test set上进行评估\n",
        "def test(dataloader, model, loss_fn):\n",
        "  # 设置评估模式\n",
        "  model.eval()\n",
        "\n",
        "  loss = 0\n",
        "  correct = 0\n",
        "  # 评估模式无需更新梯度，这个能放在 model.eval() 里做吗？\n",
        "  with torch.no_grad():\n",
        "    for x,y in dataloader:\n",
        "      # 喂数据\n",
        "      x = x.to(device)\n",
        "      y = y.to(device)\n",
        "      pred = model(x)\n",
        "      # 统计loss\n",
        "      loss += loss_fn(pred, y).item()\n",
        "      # 计算准确数目\n",
        "      correct += (pred.argmax(1) == y).type(torch.float).sum().item()\n",
        "\n",
        "  batch_num = len(dataloader)\n",
        "  loss_avg = loss / batch_num\n",
        "  data_num = len(dataloader.dataset)\n",
        "  accuracy = correct / data_num\n",
        "  print(f'Average loss is {loss_avg}, accuracy is {accuracy} \\n')"
      ],
      "metadata": {
        "id": "jWRp_7ThbHWh"
      },
      "execution_count": null,
      "outputs": []
    },
    {
      "cell_type": "code",
      "source": [
        "# 真正开始训练\n",
        "loss_fn = nn.CrossEntropyLoss()\n",
        "optimizer = torch.optim.SGD(model.parameters(), lr=1e-3)\n",
        "\n",
        "epoch = 10\n",
        "for i in range(epoch):\n",
        "  print(f'Epoch {i + 1}\\n')\n",
        "  train(train_loader, model, loss_fn, optimizer)\n",
        "  test(test_loader, model, loss_fn)"
      ],
      "metadata": {
        "colab": {
          "base_uri": "https://localhost:8080/"
        },
        "id": "tMx9Bs_xfTiw",
        "outputId": "518795e5-38dc-452f-aca9-cd1a01e0fc3a",
        "collapsed": true
      },
      "execution_count": null,
      "outputs": [
        {
          "output_type": "stream",
          "name": "stdout",
          "text": [
            "Epoch 1\n",
            "\n",
            "loss = 1.1603496074676514, trained data = 64 / 60000\n",
            "loss = 1.1513525247573853, trained data = 6464 / 60000\n",
            "loss = 0.9771229028701782, trained data = 12864 / 60000\n",
            "loss = 1.1207197904586792, trained data = 19264 / 60000\n",
            "loss = 0.985601544380188, trained data = 25664 / 60000\n",
            "loss = 1.0138530731201172, trained data = 32064 / 60000\n",
            "loss = 1.0464586019515991, trained data = 38464 / 60000\n",
            "loss = 0.9951626062393188, trained data = 44864 / 60000\n",
            "loss = 1.0419878959655762, trained data = 51264 / 60000\n",
            "loss = 0.9638720750808716, trained data = 57664 / 60000\n",
            "Average loss is 0.9795228512423813, accuracy is 0.6586 \n",
            "\n",
            "Epoch 2\n",
            "\n",
            "loss = 1.0444252490997314, trained data = 64 / 60000\n",
            "loss = 1.0539417266845703, trained data = 6464 / 60000\n",
            "loss = 0.864147424697876, trained data = 12864 / 60000\n",
            "loss = 1.03250253200531, trained data = 19264 / 60000\n",
            "loss = 0.9007618427276611, trained data = 25664 / 60000\n",
            "loss = 0.9209322929382324, trained data = 32064 / 60000\n",
            "loss = 0.9709427356719971, trained data = 38464 / 60000\n",
            "loss = 0.9231981039047241, trained data = 44864 / 60000\n",
            "loss = 0.9665845036506653, trained data = 51264 / 60000\n",
            "loss = 0.8997847437858582, trained data = 57664 / 60000\n",
            "Average loss is 0.9092521158752928, accuracy is 0.672 \n",
            "\n",
            "Epoch 3\n",
            "\n",
            "loss = 0.9599271416664124, trained data = 64 / 60000\n",
            "loss = 0.9863322973251343, trained data = 6464 / 60000\n",
            "loss = 0.7834544777870178, trained data = 12864 / 60000\n",
            "loss = 0.9701790809631348, trained data = 19264 / 60000\n",
            "loss = 0.8446298241615295, trained data = 25664 / 60000\n",
            "loss = 0.8529115915298462, trained data = 32064 / 60000\n",
            "loss = 0.9185028076171875, trained data = 38464 / 60000\n",
            "loss = 0.8747076988220215, trained data = 44864 / 60000\n",
            "loss = 0.9121911525726318, trained data = 51264 / 60000\n",
            "loss = 0.8534759879112244, trained data = 57664 / 60000\n",
            "Average loss is 0.8585574729427411, accuracy is 0.6827 \n",
            "\n",
            "Epoch 4\n",
            "\n",
            "loss = 0.8944640159606934, trained data = 64 / 60000\n",
            "loss = 0.935726523399353, trained data = 6464 / 60000\n",
            "loss = 0.7229001522064209, trained data = 12864 / 60000\n",
            "loss = 0.9235541820526123, trained data = 19264 / 60000\n",
            "loss = 0.8048043251037598, trained data = 25664 / 60000\n",
            "loss = 0.8014705181121826, trained data = 32064 / 60000\n",
            "loss = 0.8788509368896484, trained data = 38464 / 60000\n",
            "loss = 0.8401064872741699, trained data = 44864 / 60000\n",
            "loss = 0.8712084293365479, trained data = 51264 / 60000\n",
            "loss = 0.8179125785827637, trained data = 57664 / 60000\n",
            "Average loss is 0.8199913505535976, accuracy is 0.6919 \n",
            "\n",
            "Epoch 5\n",
            "\n",
            "loss = 0.8413912057876587, trained data = 64 / 60000\n",
            "loss = 0.8954318761825562, trained data = 6464 / 60000\n",
            "loss = 0.6754420399665833, trained data = 12864 / 60000\n",
            "loss = 0.8870889544487, trained data = 19264 / 60000\n",
            "loss = 0.7748308181762695, trained data = 25664 / 60000\n",
            "loss = 0.7618269920349121, trained data = 32064 / 60000\n",
            "loss = 0.8468433618545532, trained data = 38464 / 60000\n",
            "loss = 0.8141740560531616, trained data = 44864 / 60000\n",
            "loss = 0.8389672040939331, trained data = 51264 / 60000\n",
            "loss = 0.7893792390823364, trained data = 57664 / 60000\n",
            "Average loss is 0.7891611971293285, accuracy is 0.7056 \n",
            "\n",
            "Epoch 6\n",
            "\n",
            "loss = 0.7967574000358582, trained data = 64 / 60000\n",
            "loss = 0.861544132232666, trained data = 6464 / 60000\n",
            "loss = 0.6367578506469727, trained data = 12864 / 60000\n",
            "loss = 0.8577858209609985, trained data = 19264 / 60000\n",
            "loss = 0.750725269317627, trained data = 25664 / 60000\n",
            "loss = 0.730682373046875, trained data = 32064 / 60000\n",
            "loss = 0.8195723295211792, trained data = 38464 / 60000\n",
            "loss = 0.7935627698898315, trained data = 44864 / 60000\n",
            "loss = 0.8128104209899902, trained data = 51264 / 60000\n",
            "loss = 0.7654028534889221, trained data = 57664 / 60000\n",
            "Average loss is 0.7634839736352301, accuracy is 0.7169 \n",
            "\n",
            "Epoch 7\n",
            "\n",
            "loss = 0.7582907676696777, trained data = 64 / 60000\n",
            "loss = 0.8319804668426514, trained data = 6464 / 60000\n",
            "loss = 0.6044098138809204, trained data = 12864 / 60000\n",
            "loss = 0.8336875438690186, trained data = 19264 / 60000\n",
            "loss = 0.7305062413215637, trained data = 25664 / 60000\n",
            "loss = 0.705630898475647, trained data = 32064 / 60000\n",
            "loss = 0.7953288555145264, trained data = 38464 / 60000\n",
            "loss = 0.776242196559906, trained data = 44864 / 60000\n",
            "loss = 0.7907295823097229, trained data = 51264 / 60000\n",
            "loss = 0.744641900062561, trained data = 57664 / 60000\n",
            "Average loss is 0.7413343578387218, accuracy is 0.7278 \n",
            "\n",
            "Epoch 8\n",
            "\n",
            "loss = 0.7244185209274292, trained data = 64 / 60000\n",
            "loss = 0.8054453134536743, trained data = 6464 / 60000\n",
            "loss = 0.5767108201980591, trained data = 12864 / 60000\n",
            "loss = 0.8133434057235718, trained data = 19264 / 60000\n",
            "loss = 0.7129309773445129, trained data = 25664 / 60000\n",
            "loss = 0.6850370764732361, trained data = 32064 / 60000\n",
            "loss = 0.7732096910476685, trained data = 38464 / 60000\n",
            "loss = 0.7610876560211182, trained data = 44864 / 60000\n",
            "loss = 0.7714939713478088, trained data = 51264 / 60000\n",
            "loss = 0.7261260747909546, trained data = 57664 / 60000\n",
            "Average loss is 0.7216795699991239, accuracy is 0.738 \n",
            "\n",
            "Epoch 9\n",
            "\n",
            "loss = 0.694227397441864, trained data = 64 / 60000\n",
            "loss = 0.7812654972076416, trained data = 6464 / 60000\n",
            "loss = 0.552606463432312, trained data = 12864 / 60000\n",
            "loss = 0.7956045866012573, trained data = 19264 / 60000\n",
            "loss = 0.6974892616271973, trained data = 25664 / 60000\n",
            "loss = 0.667704701423645, trained data = 32064 / 60000\n",
            "loss = 0.7526825666427612, trained data = 38464 / 60000\n",
            "loss = 0.7475484609603882, trained data = 44864 / 60000\n",
            "loss = 0.7545490264892578, trained data = 51264 / 60000\n",
            "loss = 0.7094109058380127, trained data = 57664 / 60000\n",
            "Average loss is 0.7039003216536941, accuracy is 0.7463 \n",
            "\n",
            "Epoch 10\n",
            "\n",
            "loss = 0.6671767830848694, trained data = 64 / 60000\n",
            "loss = 0.7591363787651062, trained data = 6464 / 60000\n",
            "loss = 0.5313135981559753, trained data = 12864 / 60000\n",
            "loss = 0.7798521518707275, trained data = 19264 / 60000\n",
            "loss = 0.6837425231933594, trained data = 25664 / 60000\n",
            "loss = 0.652953028678894, trained data = 32064 / 60000\n",
            "loss = 0.733564019203186, trained data = 38464 / 60000\n",
            "loss = 0.7352812886238098, trained data = 44864 / 60000\n",
            "loss = 0.7395395040512085, trained data = 51264 / 60000\n",
            "loss = 0.6940453052520752, trained data = 57664 / 60000\n",
            "Average loss is 0.6876482134032401, accuracy is 0.7545 \n",
            "\n"
          ]
        }
      ]
    },
    {
      "cell_type": "markdown",
      "source": [
        "# 5. Saving models"
      ],
      "metadata": {
        "id": "izgVvJ1einD9"
      }
    },
    {
      "cell_type": "code",
      "source": [
        "model_path = 'model.pth'\n",
        "torch.save(model.state_dict(), model_path)\n",
        "print('Save model')"
      ],
      "metadata": {
        "colab": {
          "base_uri": "https://localhost:8080/"
        },
        "id": "w4b_8uxZiqDC",
        "outputId": "b9268a1e-9cfd-4d13-c141-c29c4b6f50f1"
      },
      "execution_count": null,
      "outputs": [
        {
          "output_type": "stream",
          "name": "stdout",
          "text": [
            "Save model\n"
          ]
        }
      ]
    },
    {
      "cell_type": "markdown",
      "source": [
        "# 6. Loading model\n"
      ],
      "metadata": {
        "id": "ixRkFaeSi-F1"
      }
    },
    {
      "cell_type": "code",
      "source": [
        "model = NeuralNetwork().to(device)\n",
        "\n",
        "weights = torch.load(model_path, weights_only=True)\n",
        "model.load_state_dict(weights)"
      ],
      "metadata": {
        "colab": {
          "base_uri": "https://localhost:8080/"
        },
        "id": "55ChvGjxjOwF",
        "outputId": "5455f6c8-2d5f-474d-b70d-b947e97a5816"
      },
      "execution_count": null,
      "outputs": [
        {
          "output_type": "execute_result",
          "data": {
            "text/plain": [
              "<All keys matched successfully>"
            ]
          },
          "metadata": {},
          "execution_count": 32
        }
      ]
    },
    {
      "cell_type": "markdown",
      "source": [
        "# 7. Make predictions"
      ],
      "metadata": {
        "id": "fvXudu8GlGux"
      }
    },
    {
      "cell_type": "code",
      "source": [
        "# 设置到评估模式\n",
        "model.eval()\n",
        "\n",
        "[x, y] = test_data[0]\n",
        "# 这个with 真的可以和 eval() 合并起来\n",
        "with torch.no_grad():\n",
        "  x = x.to(device)\n",
        "  pred = model(x)\n",
        "  pred_idx = torch.argmax(pred)\n",
        "  print(f'prediction = {pred_idx}, actually is {y}')"
      ],
      "metadata": {
        "colab": {
          "base_uri": "https://localhost:8080/"
        },
        "id": "64t4XBb8lGMy",
        "outputId": "fd25612c-7ef1-4243-e168-96e6d7d24392"
      },
      "execution_count": null,
      "outputs": [
        {
          "output_type": "stream",
          "name": "stdout",
          "text": [
            "prediction = 9, actually is 9\n"
          ]
        }
      ]
    }
  ]
}